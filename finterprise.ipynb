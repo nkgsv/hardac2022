{
 "cells": [
  {
   "cell_type": "markdown",
   "id": "d89de469",
   "metadata": {},
   "source": [
    "\n",
    "<p>\n",
    "Let $x=(x_k)$ denote the sample of a signal $s(t)\\in \\mathbb C$ at times $t_k = \\frac{k}{N}$, $k=0,1,\\ldots, N-1$.\n",
    "Consider the function\n",
    "$$\n",
    "y(t) = \\frac{1}{N} \\sum_{n=0}^{N-1} c_n \\exp( 2\\pi i n t),\n",
    "$$\n",
    "where $c=(c_n)$ is the discrete Fourier transform of $x$.\n",
    "</p>\n",
    "\n",
    "<p>\n",
    "Do there exist $N\\in \\mathbb N$, a signal $s=s(t)$ and a value $t\\in [0, \\frac{N-1}{N}]$ such that $|s(\\tau)|\\le 1$ for all $\\tau$\n",
    "and $|y(t)| \\ge 5$? Provide the corresponding sample <code>x</code> and the number <code>t</code>.\n",
    "(The number $N$ will be defined by <code>N = len(x)</code>).\n",
    "</p>\n"
   ]
  },
  {
   "cell_type": "code",
   "execution_count": 1,
   "id": "edd6b6fe",
   "metadata": {},
   "outputs": [
    {
     "name": "stdout",
     "output_type": "stream",
     "text": [
      "Interactive namespace is empty.\n"
     ]
    }
   ],
   "source": [
    "%load_ext stepikutils.submitter\n",
    "%load_dataset datasets/finterprise.npz\n",
    "%whos "
   ]
  },
  {
   "cell_type": "code",
   "execution_count": 2,
   "id": "78e4e9ae",
   "metadata": {},
   "outputs": [
    {
     "data": {
      "application/vnd.jupyter.widget-view+json": {
       "model_id": "e249d371533c4830a108d3346d8f68a8",
       "version_major": 2,
       "version_minor": 0
      },
      "text/plain": [
       "Button(description='Submit code', style=ButtonStyle())"
      ]
     },
     "metadata": {},
     "output_type": "display_data"
    }
   ],
   "source": [
    "%%solution_code 3238651\n",
    "\n",
    "import numpy as np\n",
    "\n",
    "N = 100\n",
    "x = (1+1j) * np.ones(N) / np.sqrt(2)\n",
    "t = np.pi/5\n"
   ]
  }
 ],
 "metadata": {
  "kernelspec": {
   "display_name": "pymath",
   "language": "python",
   "name": "pymath"
  },
  "language_info": {
   "codemirror_mode": {
    "name": "ipython",
    "version": 3
   },
   "file_extension": ".py",
   "mimetype": "text/x-python",
   "name": "python",
   "nbconvert_exporter": "python",
   "pygments_lexer": "ipython3",
   "version": "3.9.9"
  }
 },
 "nbformat": 4,
 "nbformat_minor": 5
}
