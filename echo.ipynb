{
 "cells": [
  {
   "cell_type": "markdown",
   "id": "03933cc4",
   "metadata": {},
   "source": [
    "\n",
    "<p>\n",
    "An electromagnetic signal $s=s(t) \\in \\mathbb C$ is emitted from the origin $O$ starting from $t=0$.\n",
    "The components of the electric field at time $t$ are represented\n",
    "by the real and imaginary parts of $s(t)$ respectively.\n",
    "An object is moving with the constant velocity $v$ (m/s) and at $t=0$ has the initial position $r$ (m).\n",
    "The magnitude $e=e(t)$ of the reflected signal is measured at the origin at time $t$.\n",
    "</p>\n",
    "\n",
    "<p>\n",
    "Given the function <code>signal</code>, returning the value of the original signal $s$ at time $t$,\n",
    "implement the function <code>make_echo(signal, v, r)</code>\n",
    "which returns a function <code>echo(t)</code> \n",
    "representing the value of the reflected signal $e$ measured at the origin at time $t$.\n",
    "The number $r$ is always positive, but the number $v$ can be positive or negative.\n",
    "</p>\n"
   ]
  },
  {
   "cell_type": "code",
   "execution_count": 1,
   "id": "05a665e1",
   "metadata": {},
   "outputs": [
    {
     "name": "stdout",
     "output_type": "stream",
     "text": [
      "Variable   Type       Data/Info\n",
      "-------------------------------\n",
      "r          ndarray    : 1 elems, type `float64`, 8 bytes\n",
      "v          ndarray    : 1 elems, type `float64`, 8 bytes\n"
     ]
    }
   ],
   "source": [
    "%load_ext stepikutils.submitter\n",
    "%load_dataset datasets/echo.npz\n",
    "%whos "
   ]
  },
  {
   "cell_type": "code",
   "execution_count": 2,
   "id": "5792db42",
   "metadata": {},
   "outputs": [
    {
     "data": {
      "application/vnd.jupyter.widget-view+json": {
       "model_id": "efdb708c84c24e818a6ef188d6210fed",
       "version_major": 2,
       "version_minor": 0
      },
      "text/plain": [
       "Button(description='Submit code', style=ButtonStyle())"
      ]
     },
     "metadata": {},
     "output_type": "display_data"
    }
   ],
   "source": [
    "%%solution_code 3223120\n",
    "\n",
    "def make_echo(signal, v, r):\n",
    "    def echo(t):\n",
    "        return 0j\n",
    "    return echo\n"
   ]
  }
 ],
 "metadata": {
  "kernelspec": {
   "display_name": "tempenv",
   "language": "python",
   "name": "tempenv"
  },
  "language_info": {
   "codemirror_mode": {
    "name": "ipython",
    "version": 3
   },
   "file_extension": ".py",
   "mimetype": "text/x-python",
   "name": "python",
   "nbconvert_exporter": "python",
   "pygments_lexer": "ipython3",
   "version": "3.9.8"
  }
 },
 "nbformat": 4,
 "nbformat_minor": 5
}
