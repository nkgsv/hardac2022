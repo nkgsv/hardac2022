{
 "cells": [
  {
   "cell_type": "markdown",
   "id": "872088c2",
   "metadata": {},
   "source": [
    "\n",
    "<p>\n",
    "Let $x=(x_k)$ denote the sample of the signal $s(t)\\in \\mathbb C$ at times $t_k = \\frac{k}{N}$, $k=0,1,\\ldots, N-1$.\n",
    "The <em>sinc-interpolation</em> of this sample is the function\n",
    "$$\n",
    "y(t) = \\sum_{k=0}^{N-1} x_k \\mathop{\\mathrm{sinc}}(Nt - k),\n",
    "$$\n",
    "where $\\mathop{\\mathrm{sinc}} (z) = \\frac{\\sin (\\pi z)}{\\pi z}$ is the cardinal sine ($\\mathop{\\mathrm{sinc}}(0):=1$).\n",
    "</p>\n",
    "\n",
    "<p>\n",
    "Do there exist $N\\in \\mathbb N$, a signal $s=s(t)$ and a value $t\\in [0, \\frac{N-1}{N}]$ such that $|s(\\tau)|\\le 1$ for all $\\tau$\n",
    "and $|y(t)| \\ge 2$? Provide the corresponding sample <code>x</code> and the number <code>t</code>.\n",
    "(the number $N$ will be defined by <code>N = len(x)</code>).\n",
    "</p>\n"
   ]
  },
  {
   "cell_type": "code",
   "execution_count": 1,
   "id": "9b296d42",
   "metadata": {},
   "outputs": [
    {
     "name": "stdout",
     "output_type": "stream",
     "text": [
      "Interactive namespace is empty.\n"
     ]
    }
   ],
   "source": [
    "%load_ext stepikutils.submitter\n",
    "%load_dataset datasets/out_of_sinc.npz\n",
    "%whos "
   ]
  },
  {
   "cell_type": "code",
   "execution_count": 2,
   "id": "7e4e71f7",
   "metadata": {},
   "outputs": [
    {
     "data": {
      "application/vnd.jupyter.widget-view+json": {
       "model_id": "0efd82e1b70440fe82cebb5c341ac6e6",
       "version_major": 2,
       "version_minor": 0
      },
      "text/plain": [
       "Button(description='Submit code', style=ButtonStyle())"
      ]
     },
     "metadata": {},
     "output_type": "display_data"
    }
   ],
   "source": [
    "%%solution_code 3223471\n",
    "\n",
    "import numpy as np\n",
    "\n",
    "N = 100\n",
    "x = np.ones(N)\n",
    "t = np.pi/5\n"
   ]
  }
 ],
 "metadata": {
  "kernelspec": {
   "display_name": "tempenv",
   "language": "python",
   "name": "tempenv"
  },
  "language_info": {
   "codemirror_mode": {
    "name": "ipython",
    "version": 3
   },
   "file_extension": ".py",
   "mimetype": "text/x-python",
   "name": "python",
   "nbconvert_exporter": "python",
   "pygments_lexer": "ipython3",
   "version": "3.9.8"
  }
 },
 "nbformat": 4,
 "nbformat_minor": 5
}
