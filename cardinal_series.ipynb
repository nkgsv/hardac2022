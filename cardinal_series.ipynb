{
 "cells": [
  {
   "cell_type": "markdown",
   "id": "1e33960d",
   "metadata": {},
   "source": [
    "\n",
    "Given $\\omega \\in \\mathbb R$ and $t\\in \\mathbb R$ compute the sum of the <em>cardinal series</em>:\n",
    "$$\n",
    "S(\\omega, t):= \\sum_{k\\in \\mathbb Z} e^{i\\omega k} \\mathop{\\mathrm{sinc}} (t-k),\n",
    "$$\n",
    "where $\\mathop{\\mathrm{sinc}} (z) = \\frac{\\sin (\\pi z)}{\\pi z}$ is the cardinal sine ($\\mathop{\\mathrm{sinc}}(0):=0$).\n",
    "\n",
    "Implement function <code>cardinal(omega, t)</code> that returns the value of $S(\\omega, t)$.\n"
   ]
  },
  {
   "cell_type": "code",
   "execution_count": 1,
   "id": "109f2c9e",
   "metadata": {},
   "outputs": [
    {
     "name": "stdout",
     "output_type": "stream",
     "text": [
      "Interactive namespace is empty.\n"
     ]
    }
   ],
   "source": [
    "%load_ext stepikutils.submitter\n",
    "%load_dataset datasets/cardinal_series.npz\n",
    "%whos "
   ]
  },
  {
   "cell_type": "code",
   "execution_count": 2,
   "id": "e7b37939",
   "metadata": {},
   "outputs": [
    {
     "data": {
      "application/vnd.jupyter.widget-view+json": {
       "model_id": "b394908f6e9e40699b8078038f62a1a7",
       "version_major": 2,
       "version_minor": 0
      },
      "text/plain": [
       "Button(description='Submit code', style=ButtonStyle())"
      ]
     },
     "metadata": {},
     "output_type": "display_data"
    }
   ],
   "source": [
    "%%solution_code 3219535\n",
    "\n",
    "import numpy as np\n",
    "\n",
    "def cardinal(omega: float, t: float) -> complex:\n",
    "    return omega*t\n"
   ]
  }
 ],
 "metadata": {
  "kernelspec": {
   "display_name": "tempenv",
   "language": "python",
   "name": "tempenv"
  },
  "language_info": {
   "codemirror_mode": {
    "name": "ipython",
    "version": 3
   },
   "file_extension": ".py",
   "mimetype": "text/x-python",
   "name": "python",
   "nbconvert_exporter": "python",
   "pygments_lexer": "ipython3",
   "version": "3.9.8"
  }
 },
 "nbformat": 4,
 "nbformat_minor": 5
}
