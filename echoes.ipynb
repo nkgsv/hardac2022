{
 "cells": [
  {
   "cell_type": "markdown",
   "id": "db1dfba9",
   "metadata": {},
   "source": [
    "\n",
    "<p>\n",
    "An electromagnetic signal $s=s(t) \\in \\mathbb C$ is emitted from the origin $O$ starting from $t=0$.\n",
    "The components of the electric field at time $t$ are represented\n",
    "by the real and imaginary parts of $s(t)$ respectively.\n",
    "An object is moving with the constant velocity $v$ (m/s) and at time $t=0$ is located at the initial position $r$ (m).\n",
    "The magnitude $e=e(t)$ of the reflected signal is measured at the origin at time $t$.\n",
    "</p>\n",
    "\n",
    "<p>\n",
    "It is known that $|v|\\le 100$ m/s and $0 < r < 2000$ m.\n",
    "</p>\n",
    "\n",
    "<p>\n",
    "The function <code>measure_echo(signal)</code> returns a function <code>echo(t)</code>\n",
    "which maps $t$ to the value $e(t)$ of reflected signal measured at the origin at time $t$,\n",
    "assuming that the emitted signal $s(t)$ is given by the function <code>signal</code>.\n",
    "Due to limitations of the measuring device the components of $e(t)$ are clipped by $1$,\n",
    "i.e. $|\\mathrm{Re}\\, e(t)|\\le 1$ and $|\\mathrm{Im}\\, e(t)|\\le 1$. \n",
    "Furthermore $e(t)$ contains some random noise with magnitude $\\le 0.05$.\n",
    "</p>\n",
    "\n",
    "<p>\n",
    "You can prescribe any waveform of the emitted signal $s(t)$ \n",
    "by means of defining appropriately the function <code>signal(t)</code>.\n",
    "Using the measured reflected signal returned by the function <code>measure_echo(signal)</code>,\n",
    "estimate the values of $v$ and $r$.\n",
    "The number $r$ is always positive, but the number $v$ can be positive or negative.\n",
    "</p>\n"
   ]
  },
  {
   "cell_type": "code",
   "execution_count": null,
   "id": "d6e1a088",
   "metadata": {},
   "outputs": [],
   "source": [
    "%load_ext stepikutils.submitter\n",
    "%load_dataset datasets/echoes.npz\n",
    "%whos "
   ]
  },
  {
   "cell_type": "code",
   "execution_count": null,
   "id": "4d4ffa76",
   "metadata": {},
   "outputs": [],
   "source": [
    "%%solution_code 3223123\n",
    "\n",
    "import numpy as np\n",
    "\n",
    "def signal(t):\n",
    "    return 0.5*t + 0.3j/(1+t)\n",
    "\n",
    "if 'measure_echo' not in globals():\n",
    "    echo = lambda t: 0\n",
    "else:\n",
    "    echo = measure_echo(signal)\n",
    "\n",
    "vecho = np.vectorize(echo, otypes=[complex])\n",
    "t = np.linspace(0, 1, 100)\n",
    "\n",
    "x = vecho(t)\n",
    "v = np.real(np.mean(x))\n",
    "r = np.real(np.mean(x))\n"
   ]
  },
  {
   "cell_type": "code",
   "execution_count": null,
   "id": "de8dad2a",
   "metadata": {},
   "outputs": [],
   "source": [
    "\n",
    "import matplotlib.pyplot as plt\n",
    "from matplotlib.pyplot import *\n",
    "%matplotlib inline\n",
    "%config InlineBackend.figure_formats = ['svg']\n"
   ]
  }
 ],
 "metadata": {},
 "nbformat": 4,
 "nbformat_minor": 5
}
