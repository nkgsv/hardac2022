{
 "cells": [
  {
   "cell_type": "markdown",
   "id": "cc10f8fd",
   "metadata": {},
   "source": [
    "\n",
    "<p><em>The purpose of this problem is to make sure you can correctly submit your solution (if you have never used Stepik before).</em></p>\n",
    "\n",
    "<p>\n",
    "Find the cross product $\\mathbf{z} = \\mathbf{x} \\times \\mathbf{y}$ of vectors $\\mathbf{x},\\mathbf{y}\\in \\mathbb R^3$ with cartesian coordinates contained in arrays <code>x</code> and <code>y</code>.\n",
    "</p>\n"
   ]
  },
  {
   "cell_type": "code",
   "execution_count": 1,
   "id": "fb70a479",
   "metadata": {},
   "outputs": [
    {
     "name": "stdout",
     "output_type": "stream",
     "text": [
      "Variable   Type       Data/Info\n",
      "-------------------------------\n",
      "x          ndarray    3: 3 elems, type `float64`, 24 bytes\n",
      "y          ndarray    3: 3 elems, type `float64`, 24 bytes\n"
     ]
    }
   ],
   "source": [
    "%load_ext stepikutils.submitter\n",
    "%load_dataset datasets/sandbox_problem.npz\n",
    "%whos "
   ]
  },
  {
   "cell_type": "code",
   "execution_count": 2,
   "id": "2a28d107",
   "metadata": {},
   "outputs": [
    {
     "data": {
      "application/vnd.jupyter.widget-view+json": {
       "model_id": "9db5b086ae58401b97422036c3bec15e",
       "version_major": 2,
       "version_minor": 0
      },
      "text/plain": [
       "Button(description='Submit code', style=ButtonStyle())"
      ]
     },
     "metadata": {},
     "output_type": "display_data"
    }
   ],
   "source": [
    "%%solution_code 3223498\n",
    "\n",
    "import numpy as np\n",
    "\n",
    "z = x + y\n"
   ]
  },
  {
   "cell_type": "code",
   "execution_count": 3,
   "id": "67172b15",
   "metadata": {},
   "outputs": [
    {
     "name": "stdout",
     "output_type": "stream",
     "text": [
      "[1.86506492 4.30520543 0.74932543]\n"
     ]
    }
   ],
   "source": [
    "\n",
    "import numpy as np\n",
    "\n",
    "print(np.cross(x,y))\n"
   ]
  }
 ],
 "metadata": {
  "kernelspec": {
   "display_name": "tempenv",
   "language": "python",
   "name": "tempenv"
  },
  "language_info": {
   "codemirror_mode": {
    "name": "ipython",
    "version": 3
   },
   "file_extension": ".py",
   "mimetype": "text/x-python",
   "name": "python",
   "nbconvert_exporter": "python",
   "pygments_lexer": "ipython3",
   "version": "3.9.8"
  }
 },
 "nbformat": 4,
 "nbformat_minor": 5
}
